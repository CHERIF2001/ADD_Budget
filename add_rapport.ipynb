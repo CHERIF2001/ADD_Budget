{
 "cells": [
  {
   "cell_type": "markdown",
   "metadata": {},
   "source": [
    "# RAPPORT\n",
    "\n",
    "Dans ce notebook nous allons analyser les données du budget français. Les étapes de notre projet sont:\n",
    "- 1. Présentation de la base de donnée \n",
    "- 2. Analyse exploratoire \n",
    "- 3. Analyse en composantes principales \n",
    "- 4. Discussion\n",
    "\n"
   ]
  },
  {
   "cell_type": "markdown",
   "metadata": {},
   "source": [
    "## 1.  Présentation de la base de donnée. \n",
    "\n",
    "Les données viennent d'un ouvrage de Gilbert Saporta. Il s'agit de l’étude des différents postes du budget de l’état français de 1872 à 1971. Les valeurs sont données en pourcentage du budget global pour éliminer l’effet de l’évolution de la valeur du franc nominal au cours du temps. Les intitulés complets des variables\n",
    "sont : \n",
    "- PVP : Pouvoirs publics,\n",
    "- AGR : Agriculture,\n",
    "- CMI : Commerce et industrie,\n",
    "- TRA : Travail,\n",
    "- LOG : Logement,\n",
    "- EDU : éducation,\n",
    "- ACS : Action sociale,\n",
    "- ANC : Anciens combattants,\n",
    "- DEF : Défense,\n",
    "- DET : Remboursement de la dette,\n",
    "- DIV : Divers."
   ]
  },
  {
   "cell_type": "code",
   "execution_count": 38,
   "metadata": {},
   "outputs": [],
   "source": [
    "# on importe les packages \n",
    "\n",
    "import pandas as pd\n",
    "\n",
    "import numpy as np \n",
    "\n",
    "import matplotlib.pyplot as plt\n",
    "\n",
    "import seaborn as sns\n",
    "\n",
    "from sklearn.preprocessing import StandardScaler\n",
    "\n",
    "from sklearn.decomposition import PCA, KernelPCA\n",
    "\n",
    "from scipy.stats import pearsonr\n",
    "\n"
   ]
  },
  {
   "cell_type": "code",
   "execution_count": 39,
   "metadata": {},
   "outputs": [],
   "source": [
    "# on importe le dataframe \n",
    "\n",
    "data = pd.read_excel(\"./budgets.xls\", sheet_name=0, header=0, index_col=0)\n"
   ]
  },
  {
   "cell_type": "markdown",
   "metadata": {},
   "source": [
    "Nous remarquons que :\n",
    "* Les données actives sont situées dans la première feuille (`sheet_name = 0`) ;\n",
    "* La première ligne correspond aux noms des variables (`header = 0`)\n",
    "* La première colonne aux identifiants des observations (`index_col = 0`)."
   ]
  },
  {
   "cell_type": "code",
   "execution_count": 40,
   "metadata": {},
   "outputs": [
    {
     "data": {
      "text/html": [
       "<div>\n",
       "<style scoped>\n",
       "    .dataframe tbody tr th:only-of-type {\n",
       "        vertical-align: middle;\n",
       "    }\n",
       "\n",
       "    .dataframe tbody tr th {\n",
       "        vertical-align: top;\n",
       "    }\n",
       "\n",
       "    .dataframe thead th {\n",
       "        text-align: right;\n",
       "    }\n",
       "</style>\n",
       "<table border=\"1\" class=\"dataframe\">\n",
       "  <thead>\n",
       "    <tr style=\"text-align: right;\">\n",
       "      <th></th>\n",
       "      <th>PVP</th>\n",
       "      <th>AGR</th>\n",
       "      <th>CMI</th>\n",
       "      <th>TRA</th>\n",
       "      <th>LOG</th>\n",
       "      <th>EDU</th>\n",
       "      <th>ACS</th>\n",
       "      <th>ANC</th>\n",
       "      <th>DEF</th>\n",
       "      <th>DET</th>\n",
       "      <th>DIV</th>\n",
       "    </tr>\n",
       "    <tr>\n",
       "      <th>AN</th>\n",
       "      <th></th>\n",
       "      <th></th>\n",
       "      <th></th>\n",
       "      <th></th>\n",
       "      <th></th>\n",
       "      <th></th>\n",
       "      <th></th>\n",
       "      <th></th>\n",
       "      <th></th>\n",
       "      <th></th>\n",
       "      <th></th>\n",
       "    </tr>\n",
       "  </thead>\n",
       "  <tbody>\n",
       "    <tr>\n",
       "      <th>1872</th>\n",
       "      <td>18.0</td>\n",
       "      <td>0.5</td>\n",
       "      <td>0.1</td>\n",
       "      <td>6.7</td>\n",
       "      <td>0.5</td>\n",
       "      <td>2.1</td>\n",
       "      <td>2.0</td>\n",
       "      <td>0.0</td>\n",
       "      <td>26.4</td>\n",
       "      <td>41.5</td>\n",
       "      <td>2.1</td>\n",
       "    </tr>\n",
       "    <tr>\n",
       "      <th>1880</th>\n",
       "      <td>14.1</td>\n",
       "      <td>0.8</td>\n",
       "      <td>0.1</td>\n",
       "      <td>15.3</td>\n",
       "      <td>1.9</td>\n",
       "      <td>3.7</td>\n",
       "      <td>0.5</td>\n",
       "      <td>0.0</td>\n",
       "      <td>29.8</td>\n",
       "      <td>31.3</td>\n",
       "      <td>2.5</td>\n",
       "    </tr>\n",
       "    <tr>\n",
       "      <th>1890</th>\n",
       "      <td>13.6</td>\n",
       "      <td>0.7</td>\n",
       "      <td>0.7</td>\n",
       "      <td>6.8</td>\n",
       "      <td>0.6</td>\n",
       "      <td>7.1</td>\n",
       "      <td>0.7</td>\n",
       "      <td>0.0</td>\n",
       "      <td>33.8</td>\n",
       "      <td>34.4</td>\n",
       "      <td>1.7</td>\n",
       "    </tr>\n",
       "    <tr>\n",
       "      <th>1900</th>\n",
       "      <td>14.3</td>\n",
       "      <td>1.7</td>\n",
       "      <td>1.7</td>\n",
       "      <td>6.9</td>\n",
       "      <td>1.2</td>\n",
       "      <td>7.4</td>\n",
       "      <td>0.8</td>\n",
       "      <td>0.0</td>\n",
       "      <td>37.7</td>\n",
       "      <td>26.2</td>\n",
       "      <td>2.2</td>\n",
       "    </tr>\n",
       "    <tr>\n",
       "      <th>1903</th>\n",
       "      <td>10.3</td>\n",
       "      <td>1.5</td>\n",
       "      <td>0.4</td>\n",
       "      <td>9.3</td>\n",
       "      <td>0.6</td>\n",
       "      <td>8.5</td>\n",
       "      <td>0.9</td>\n",
       "      <td>0.0</td>\n",
       "      <td>38.4</td>\n",
       "      <td>27.2</td>\n",
       "      <td>3.0</td>\n",
       "    </tr>\n",
       "  </tbody>\n",
       "</table>\n",
       "</div>"
      ],
      "text/plain": [
       "       PVP  AGR   CMI   TRA  LOG   EDU  ACS   ANC   DEF   DET   DIV\n",
       " AN                                                                \n",
       "1872  18.0  0.5   0.1   6.7  0.5   2.1  2.0   0.0  26.4  41.5   2.1\n",
       "1880  14.1  0.8   0.1  15.3  1.9   3.7  0.5   0.0  29.8  31.3   2.5\n",
       "1890  13.6  0.7   0.7   6.8  0.6   7.1  0.7   0.0  33.8  34.4   1.7\n",
       "1900  14.3  1.7   1.7   6.9  1.2   7.4  0.8   0.0  37.7  26.2   2.2\n",
       "1903  10.3  1.5   0.4   9.3  0.6   8.5  0.9   0.0  38.4  27.2   3.0"
      ]
     },
     "execution_count": 40,
     "metadata": {},
     "output_type": "execute_result"
    }
   ],
   "source": [
    "# on verifie que tout a été bien importé\n",
    "# attention: En cas d'erreur, pip install xlrd\n",
    "\n",
    "data.head()"
   ]
  },
  {
   "cell_type": "code",
   "execution_count": 41,
   "metadata": {},
   "outputs": [
    {
     "name": "stdout",
     "output_type": "stream",
     "text": [
      "<class 'pandas.core.frame.DataFrame'>\n",
      "Index: 24 entries, 1872 to 1971\n",
      "Data columns (total 11 columns):\n",
      " #   Column  Non-Null Count  Dtype  \n",
      "---  ------  --------------  -----  \n",
      " 0   PVP     24 non-null     float64\n",
      " 1   AGR     24 non-null     float64\n",
      " 2    CMI    24 non-null     float64\n",
      " 3   TRA     24 non-null     float64\n",
      " 4   LOG     24 non-null     float64\n",
      " 5    EDU    24 non-null     float64\n",
      " 6   ACS     24 non-null     float64\n",
      " 7    ANC    24 non-null     float64\n",
      " 8   DEF     24 non-null     float64\n",
      " 9   DET     24 non-null     float64\n",
      " 10   DIV    24 non-null     float64\n",
      "dtypes: float64(11)\n",
      "memory usage: 2.2 KB\n"
     ]
    }
   ],
   "source": [
    "# afficher les infos et vérifier le type de notre base de donnée\n",
    "\n",
    "data.info()"
   ]
  },
  {
   "cell_type": "markdown",
   "metadata": {},
   "source": [
    "Toutes nos données sont de type float. On a que des variables quantitatives. Place à l'analyse exploratoire pour comprendre nos données! "
   ]
  },
  {
   "cell_type": "markdown",
   "metadata": {},
   "source": [
    "## 2. ANALYSE EXPLORATOIRE \n",
    "\n",
    "Dans cette partie, on *explorera* notre jeu de donnée. Cette partie est essentielle pour la compréhension de notre jeu de donnée (statistiques descriptives, visualisation). C'est également dans cette partie que l'on vérifiera si le jeu de donnée est *clean*. \n"
   ]
  },
  {
   "cell_type": "code",
   "execution_count": 42,
   "metadata": {},
   "outputs": [
    {
     "data": {
      "text/plain": [
       "PVP     0\n",
       "AGR     0\n",
       " CMI    0\n",
       "TRA     0\n",
       "LOG     0\n",
       " EDU    0\n",
       "ACS     0\n",
       " ANC    0\n",
       "DEF     0\n",
       "DET     0\n",
       " DIV    0\n",
       "dtype: int64"
      ]
     },
     "execution_count": 42,
     "metadata": {},
     "output_type": "execute_result"
    }
   ],
   "source": [
    "# vérifions s'il y a des valeurs manquantes\n",
    "\n",
    "data.isnull().sum()"
   ]
  },
  {
   "cell_type": "markdown",
   "metadata": {},
   "source": [
    "Il n y en a pas! "
   ]
  },
  {
   "cell_type": "code",
   "execution_count": 43,
   "metadata": {},
   "outputs": [
    {
     "data": {
      "text/plain": [
       " AN\n",
       "1872    False\n",
       "1880    False\n",
       "1890    False\n",
       "1900    False\n",
       "1903    False\n",
       "1906    False\n",
       "1909    False\n",
       "1912    False\n",
       "1920    False\n",
       "1923    False\n",
       "1926    False\n",
       "1929    False\n",
       "1932    False\n",
       "1935    False\n",
       "1938    False\n",
       "1947    False\n",
       "1950    False\n",
       "1953    False\n",
       "1956    False\n",
       "1959    False\n",
       "1962    False\n",
       "1965    False\n",
       "1968    False\n",
       "1971    False\n",
       "dtype: bool"
      ]
     },
     "execution_count": 43,
     "metadata": {},
     "output_type": "execute_result"
    }
   ],
   "source": [
    "# verifions s'il y a des doublons. \n",
    "\n",
    "data.duplicated()"
   ]
  },
  {
   "cell_type": "markdown",
   "metadata": {},
   "source": [
    "il n y a pas de doublons. "
   ]
  },
  {
   "cell_type": "code",
   "execution_count": 44,
   "metadata": {},
   "outputs": [
    {
     "name": "stdout",
     "output_type": "stream",
     "text": [
      "Notre dataframe contient 24 lignes et 11 colonnes\n"
     ]
    }
   ],
   "source": [
    "n, p = data.shape\n",
    "print(f'Notre dataframe contient {n} lignes et {p} colonnes')\n"
   ]
  },
  {
   "cell_type": "code",
   "execution_count": 45,
   "metadata": {},
   "outputs": [],
   "source": [
    "# recupérer les lignes et les colonnes\n",
    "\n",
    "ligne = data.index\n",
    "\n",
    "colonne = data.columns"
   ]
  },
  {
   "cell_type": "code",
   "execution_count": 46,
   "metadata": {},
   "outputs": [
    {
     "data": {
      "text/html": [
       "<div>\n",
       "<style scoped>\n",
       "    .dataframe tbody tr th:only-of-type {\n",
       "        vertical-align: middle;\n",
       "    }\n",
       "\n",
       "    .dataframe tbody tr th {\n",
       "        vertical-align: top;\n",
       "    }\n",
       "\n",
       "    .dataframe thead th {\n",
       "        text-align: right;\n",
       "    }\n",
       "</style>\n",
       "<table border=\"1\" class=\"dataframe\">\n",
       "  <thead>\n",
       "    <tr style=\"text-align: right;\">\n",
       "      <th></th>\n",
       "      <th>PVP</th>\n",
       "      <th>AGR</th>\n",
       "      <th>CMI</th>\n",
       "      <th>TRA</th>\n",
       "      <th>LOG</th>\n",
       "      <th>EDU</th>\n",
       "      <th>ACS</th>\n",
       "      <th>ANC</th>\n",
       "      <th>DEF</th>\n",
       "      <th>DET</th>\n",
       "      <th>DIV</th>\n",
       "    </tr>\n",
       "  </thead>\n",
       "  <tbody>\n",
       "    <tr>\n",
       "      <th>count</th>\n",
       "      <td>24.000000</td>\n",
       "      <td>24.000000</td>\n",
       "      <td>24.000000</td>\n",
       "      <td>24.000000</td>\n",
       "      <td>24.000000</td>\n",
       "      <td>24.000000</td>\n",
       "      <td>24.000000</td>\n",
       "      <td>24.000000</td>\n",
       "      <td>24.000000</td>\n",
       "      <td>24.000000</td>\n",
       "      <td>24.000000</td>\n",
       "    </tr>\n",
       "    <tr>\n",
       "      <th>mean</th>\n",
       "      <td>12.212500</td>\n",
       "      <td>1.995833</td>\n",
       "      <td>3.941667</td>\n",
       "      <td>8.320833</td>\n",
       "      <td>3.958333</td>\n",
       "      <td>9.941667</td>\n",
       "      <td>4.816667</td>\n",
       "      <td>4.275000</td>\n",
       "      <td>30.258333</td>\n",
       "      <td>19.141667</td>\n",
       "      <td>1.183333</td>\n",
       "    </tr>\n",
       "    <tr>\n",
       "      <th>std</th>\n",
       "      <td>2.238267</td>\n",
       "      <td>1.681221</td>\n",
       "      <td>4.585603</td>\n",
       "      <td>2.520866</td>\n",
       "      <td>4.271841</td>\n",
       "      <td>5.335600</td>\n",
       "      <td>3.482087</td>\n",
       "      <td>4.244203</td>\n",
       "      <td>7.466733</td>\n",
       "      <td>12.455972</td>\n",
       "      <td>1.047841</td>\n",
       "    </tr>\n",
       "    <tr>\n",
       "      <th>min</th>\n",
       "      <td>7.600000</td>\n",
       "      <td>0.300000</td>\n",
       "      <td>0.100000</td>\n",
       "      <td>4.500000</td>\n",
       "      <td>0.500000</td>\n",
       "      <td>2.100000</td>\n",
       "      <td>0.500000</td>\n",
       "      <td>0.000000</td>\n",
       "      <td>18.800000</td>\n",
       "      <td>3.500000</td>\n",
       "      <td>0.000000</td>\n",
       "    </tr>\n",
       "    <tr>\n",
       "      <th>25%</th>\n",
       "      <td>10.575000</td>\n",
       "      <td>0.800000</td>\n",
       "      <td>0.400000</td>\n",
       "      <td>6.675000</td>\n",
       "      <td>0.675000</td>\n",
       "      <td>7.325000</td>\n",
       "      <td>1.800000</td>\n",
       "      <td>0.000000</td>\n",
       "      <td>25.925000</td>\n",
       "      <td>6.350000</td>\n",
       "      <td>0.000000</td>\n",
       "    </tr>\n",
       "    <tr>\n",
       "      <th>50%</th>\n",
       "      <td>12.600000</td>\n",
       "      <td>1.400000</td>\n",
       "      <td>1.300000</td>\n",
       "      <td>8.000000</td>\n",
       "      <td>1.850000</td>\n",
       "      <td>8.700000</td>\n",
       "      <td>4.550000</td>\n",
       "      <td>3.800000</td>\n",
       "      <td>29.150000</td>\n",
       "      <td>19.300000</td>\n",
       "      <td>1.400000</td>\n",
       "    </tr>\n",
       "    <tr>\n",
       "      <th>75%</th>\n",
       "      <td>13.425000</td>\n",
       "      <td>2.650000</td>\n",
       "      <td>7.350000</td>\n",
       "      <td>9.150000</td>\n",
       "      <td>6.200000</td>\n",
       "      <td>10.600000</td>\n",
       "      <td>6.800000</td>\n",
       "      <td>5.450000</td>\n",
       "      <td>37.025000</td>\n",
       "      <td>26.450000</td>\n",
       "      <td>2.025000</td>\n",
       "    </tr>\n",
       "    <tr>\n",
       "      <th>max</th>\n",
       "      <td>18.000000</td>\n",
       "      <td>6.000000</td>\n",
       "      <td>16.500000</td>\n",
       "      <td>15.300000</td>\n",
       "      <td>15.800000</td>\n",
       "      <td>23.800000</td>\n",
       "      <td>11.300000</td>\n",
       "      <td>13.400000</td>\n",
       "      <td>42.400000</td>\n",
       "      <td>41.600000</td>\n",
       "      <td>3.000000</td>\n",
       "    </tr>\n",
       "  </tbody>\n",
       "</table>\n",
       "</div>"
      ],
      "text/plain": [
       "             PVP        AGR        CMI        TRA        LOG        EDU  \\\n",
       "count  24.000000  24.000000  24.000000  24.000000  24.000000  24.000000   \n",
       "mean   12.212500   1.995833   3.941667   8.320833   3.958333   9.941667   \n",
       "std     2.238267   1.681221   4.585603   2.520866   4.271841   5.335600   \n",
       "min     7.600000   0.300000   0.100000   4.500000   0.500000   2.100000   \n",
       "25%    10.575000   0.800000   0.400000   6.675000   0.675000   7.325000   \n",
       "50%    12.600000   1.400000   1.300000   8.000000   1.850000   8.700000   \n",
       "75%    13.425000   2.650000   7.350000   9.150000   6.200000  10.600000   \n",
       "max    18.000000   6.000000  16.500000  15.300000  15.800000  23.800000   \n",
       "\n",
       "             ACS        ANC        DEF        DET        DIV  \n",
       "count  24.000000  24.000000  24.000000  24.000000  24.000000  \n",
       "mean    4.816667   4.275000  30.258333  19.141667   1.183333  \n",
       "std     3.482087   4.244203   7.466733  12.455972   1.047841  \n",
       "min     0.500000   0.000000  18.800000   3.500000   0.000000  \n",
       "25%     1.800000   0.000000  25.925000   6.350000   0.000000  \n",
       "50%     4.550000   3.800000  29.150000  19.300000   1.400000  \n",
       "75%     6.800000   5.450000  37.025000  26.450000   2.025000  \n",
       "max    11.300000  13.400000  42.400000  41.600000   3.000000  "
      ]
     },
     "execution_count": 46,
     "metadata": {},
     "output_type": "execute_result"
    }
   ],
   "source": [
    "# les indicateurs statistiques \n",
    "\n",
    "data.describe()"
   ]
  },
  {
   "cell_type": "markdown",
   "metadata": {},
   "source": [
    "Comme interprétation: En moyenne, 12% du budget de l'Etat était alloué au pouvoir publics, 1.9% à l'agriculture, 30% à la défense.\n",
    "\n",
    "La variance la plus dispersée est DET car son écart type est plus elevé. La variable qui prend les valeurs les plus importante est DEF. \n",
    "\n",
    "On constate que les variances sont très dispersé, il est donc important de travailler avec des variables reduites ou standardisées. \n",
    "\n",
    "### Indicateurs statistiques utiles \n",
    "\n"
   ]
  },
  {
   "cell_type": "code",
   "execution_count": 57,
   "metadata": {},
   "outputs": [
    {
     "name": "stderr",
     "output_type": "stream",
     "text": [
      "C:\\Users\\cheri\\AppData\\Local\\Packages\\PythonSoftwareFoundation.Python.3.10_qbz5n2kfra8p0\\LocalCache\\local-packages\\Python310\\site-packages\\numpy\\core\\fromnumeric.py:3785: FutureWarning: The behavior of DataFrame.var with axis=None is deprecated, in a future version this will reduce over both axes and return a scalar. To retain the old behavior, pass axis=0 (or do not pass axis)\n",
      "  return var(axis=axis, dtype=dtype, out=out, ddof=ddof, **kwargs)\n"
     ]
    },
    {
     "data": {
      "text/plain": [
       "310.57244791666665"
      ]
     },
     "execution_count": 57,
     "metadata": {},
     "output_type": "execute_result"
    }
   ],
   "source": [
    "# calcul de l'inertie du nuage de points \n",
    "\n",
    "inertie = sum(np.var(data))\n",
    "inertie"
   ]
  },
  {
   "cell_type": "code",
   "execution_count": 48,
   "metadata": {},
   "outputs": [
    {
     "data": {
      "text/html": [
       "<div>\n",
       "<style scoped>\n",
       "    .dataframe tbody tr th:only-of-type {\n",
       "        vertical-align: middle;\n",
       "    }\n",
       "\n",
       "    .dataframe tbody tr th {\n",
       "        vertical-align: top;\n",
       "    }\n",
       "\n",
       "    .dataframe thead th {\n",
       "        text-align: right;\n",
       "    }\n",
       "</style>\n",
       "<table border=\"1\" class=\"dataframe\">\n",
       "  <thead>\n",
       "    <tr style=\"text-align: right;\">\n",
       "      <th></th>\n",
       "      <th>PVP</th>\n",
       "      <th>AGR</th>\n",
       "      <th>CMI</th>\n",
       "      <th>TRA</th>\n",
       "      <th>LOG</th>\n",
       "      <th>EDU</th>\n",
       "      <th>ACS</th>\n",
       "      <th>ANC</th>\n",
       "      <th>DEF</th>\n",
       "      <th>DET</th>\n",
       "      <th>DIV</th>\n",
       "    </tr>\n",
       "  </thead>\n",
       "  <tbody>\n",
       "    <tr>\n",
       "      <th>PVP</th>\n",
       "      <td>4.801094</td>\n",
       "      <td>-0.304948</td>\n",
       "      <td>-0.003854</td>\n",
       "      <td>1.258490</td>\n",
       "      <td>0.326354</td>\n",
       "      <td>-1.717187</td>\n",
       "      <td>-0.981458</td>\n",
       "      <td>-6.253438</td>\n",
       "      <td>1.618438</td>\n",
       "      <td>0.896562</td>\n",
       "      <td>0.335625</td>\n",
       "    </tr>\n",
       "    <tr>\n",
       "      <th>AGR</th>\n",
       "      <td>-0.304948</td>\n",
       "      <td>2.708733</td>\n",
       "      <td>4.433924</td>\n",
       "      <td>-1.120330</td>\n",
       "      <td>2.998993</td>\n",
       "      <td>6.286840</td>\n",
       "      <td>4.520069</td>\n",
       "      <td>0.302813</td>\n",
       "      <td>-5.393924</td>\n",
       "      <td>-13.946076</td>\n",
       "      <td>-0.467986</td>\n",
       "    </tr>\n",
       "    <tr>\n",
       "      <th>CMI</th>\n",
       "      <td>-0.003854</td>\n",
       "      <td>4.433924</td>\n",
       "      <td>20.151597</td>\n",
       "      <td>1.029965</td>\n",
       "      <td>16.727153</td>\n",
       "      <td>10.951181</td>\n",
       "      <td>9.505556</td>\n",
       "      <td>0.419792</td>\n",
       "      <td>-17.599097</td>\n",
       "      <td>-44.020903</td>\n",
       "      <td>-1.602639</td>\n",
       "    </tr>\n",
       "    <tr>\n",
       "      <th>TRA</th>\n",
       "      <td>1.258490</td>\n",
       "      <td>-1.120330</td>\n",
       "      <td>1.029965</td>\n",
       "      <td>6.089983</td>\n",
       "      <td>1.714201</td>\n",
       "      <td>-2.747535</td>\n",
       "      <td>-1.708264</td>\n",
       "      <td>-3.211562</td>\n",
       "      <td>2.849618</td>\n",
       "      <td>-4.463785</td>\n",
       "      <td>0.289514</td>\n",
       "    </tr>\n",
       "    <tr>\n",
       "      <th>LOG</th>\n",
       "      <td>0.326354</td>\n",
       "      <td>2.998993</td>\n",
       "      <td>16.727153</td>\n",
       "      <td>1.714201</td>\n",
       "      <td>17.488264</td>\n",
       "      <td>5.075486</td>\n",
       "      <td>6.953194</td>\n",
       "      <td>0.776875</td>\n",
       "      <td>-11.571736</td>\n",
       "      <td>-38.654514</td>\n",
       "      <td>-1.878611</td>\n",
       "    </tr>\n",
       "    <tr>\n",
       "      <th>EDU</th>\n",
       "      <td>-1.717187</td>\n",
       "      <td>6.286840</td>\n",
       "      <td>10.951181</td>\n",
       "      <td>-2.747535</td>\n",
       "      <td>5.075486</td>\n",
       "      <td>27.282431</td>\n",
       "      <td>15.578889</td>\n",
       "      <td>3.406458</td>\n",
       "      <td>-20.008264</td>\n",
       "      <td>-42.688819</td>\n",
       "      <td>-1.332222</td>\n",
       "    </tr>\n",
       "    <tr>\n",
       "      <th>ACS</th>\n",
       "      <td>-0.981458</td>\n",
       "      <td>4.520069</td>\n",
       "      <td>9.505556</td>\n",
       "      <td>-1.708264</td>\n",
       "      <td>6.953194</td>\n",
       "      <td>15.578889</td>\n",
       "      <td>11.619722</td>\n",
       "      <td>4.081667</td>\n",
       "      <td>-14.131389</td>\n",
       "      <td>-33.593194</td>\n",
       "      <td>-1.851806</td>\n",
       "    </tr>\n",
       "    <tr>\n",
       "      <th>ANC</th>\n",
       "      <td>-6.253438</td>\n",
       "      <td>0.302813</td>\n",
       "      <td>0.419792</td>\n",
       "      <td>-3.211562</td>\n",
       "      <td>0.776875</td>\n",
       "      <td>3.406458</td>\n",
       "      <td>4.081667</td>\n",
       "      <td>17.262708</td>\n",
       "      <td>-12.659792</td>\n",
       "      <td>-2.501042</td>\n",
       "      <td>-1.608750</td>\n",
       "    </tr>\n",
       "    <tr>\n",
       "      <th>DEF</th>\n",
       "      <td>1.618438</td>\n",
       "      <td>-5.393924</td>\n",
       "      <td>-17.599097</td>\n",
       "      <td>2.849618</td>\n",
       "      <td>-11.571736</td>\n",
       "      <td>-20.008264</td>\n",
       "      <td>-14.131389</td>\n",
       "      <td>-12.659792</td>\n",
       "      <td>53.429097</td>\n",
       "      <td>23.319653</td>\n",
       "      <td>0.153056</td>\n",
       "    </tr>\n",
       "    <tr>\n",
       "      <th>DET</th>\n",
       "      <td>0.896562</td>\n",
       "      <td>-13.946076</td>\n",
       "      <td>-44.020903</td>\n",
       "      <td>-4.463785</td>\n",
       "      <td>-38.654514</td>\n",
       "      <td>-42.688819</td>\n",
       "      <td>-33.593194</td>\n",
       "      <td>-2.501042</td>\n",
       "      <td>23.319653</td>\n",
       "      <td>148.686597</td>\n",
       "      <td>6.928611</td>\n",
       "    </tr>\n",
       "    <tr>\n",
       "      <th>DIV</th>\n",
       "      <td>0.335625</td>\n",
       "      <td>-0.467986</td>\n",
       "      <td>-1.602639</td>\n",
       "      <td>0.289514</td>\n",
       "      <td>-1.878611</td>\n",
       "      <td>-1.332222</td>\n",
       "      <td>-1.851806</td>\n",
       "      <td>-1.608750</td>\n",
       "      <td>0.153056</td>\n",
       "      <td>6.928611</td>\n",
       "      <td>1.052222</td>\n",
       "    </tr>\n",
       "  </tbody>\n",
       "</table>\n",
       "</div>"
      ],
      "text/plain": [
       "           PVP        AGR        CMI       TRA        LOG        EDU  \\\n",
       "PVP   4.801094  -0.304948  -0.003854  1.258490   0.326354  -1.717187   \n",
       "AGR  -0.304948   2.708733   4.433924 -1.120330   2.998993   6.286840   \n",
       " CMI -0.003854   4.433924  20.151597  1.029965  16.727153  10.951181   \n",
       "TRA   1.258490  -1.120330   1.029965  6.089983   1.714201  -2.747535   \n",
       "LOG   0.326354   2.998993  16.727153  1.714201  17.488264   5.075486   \n",
       " EDU -1.717187   6.286840  10.951181 -2.747535   5.075486  27.282431   \n",
       "ACS  -0.981458   4.520069   9.505556 -1.708264   6.953194  15.578889   \n",
       " ANC -6.253438   0.302813   0.419792 -3.211562   0.776875   3.406458   \n",
       "DEF   1.618438  -5.393924 -17.599097  2.849618 -11.571736 -20.008264   \n",
       "DET   0.896562 -13.946076 -44.020903 -4.463785 -38.654514 -42.688819   \n",
       " DIV  0.335625  -0.467986  -1.602639  0.289514  -1.878611  -1.332222   \n",
       "\n",
       "            ACS        ANC        DEF         DET       DIV  \n",
       "PVP   -0.981458  -6.253438   1.618438    0.896562  0.335625  \n",
       "AGR    4.520069   0.302813  -5.393924  -13.946076 -0.467986  \n",
       " CMI   9.505556   0.419792 -17.599097  -44.020903 -1.602639  \n",
       "TRA   -1.708264  -3.211562   2.849618   -4.463785  0.289514  \n",
       "LOG    6.953194   0.776875 -11.571736  -38.654514 -1.878611  \n",
       " EDU  15.578889   3.406458 -20.008264  -42.688819 -1.332222  \n",
       "ACS   11.619722   4.081667 -14.131389  -33.593194 -1.851806  \n",
       " ANC   4.081667  17.262708 -12.659792   -2.501042 -1.608750  \n",
       "DEF  -14.131389 -12.659792  53.429097   23.319653  0.153056  \n",
       "DET  -33.593194  -2.501042  23.319653  148.686597  6.928611  \n",
       " DIV  -1.851806  -1.608750   0.153056    6.928611  1.052222  "
      ]
     },
     "execution_count": 48,
     "metadata": {},
     "output_type": "execute_result"
    }
   ],
   "source": [
    "# créer une variable qui contient la matrice de covariance \n",
    "\n",
    "mat_cov = ((n-1)/n) * data.cov()\n",
    "mat_cov"
   ]
  },
  {
   "cell_type": "code",
   "execution_count": 49,
   "metadata": {},
   "outputs": [
    {
     "data": {
      "text/plain": [
       "310.57244791666676"
      ]
     },
     "execution_count": 49,
     "metadata": {},
     "output_type": "execute_result"
    }
   ],
   "source": [
    "# on peut vérifier que la trace de cette matricce vaut l'inertie \n",
    "\n",
    "np.trace(mat_cov)  "
   ]
  },
  {
   "cell_type": "markdown",
   "metadata": {},
   "source": [
    "L'inertie est égale à la trace de la matrice de covariance! "
   ]
  },
  {
   "cell_type": "code",
   "execution_count": 71,
   "metadata": {},
   "outputs": [
    {
     "data": {
      "text/html": [
       "<div>\n",
       "<style scoped>\n",
       "    .dataframe tbody tr th:only-of-type {\n",
       "        vertical-align: middle;\n",
       "    }\n",
       "\n",
       "    .dataframe tbody tr th {\n",
       "        vertical-align: top;\n",
       "    }\n",
       "\n",
       "    .dataframe thead th {\n",
       "        text-align: right;\n",
       "    }\n",
       "</style>\n",
       "<table border=\"1\" class=\"dataframe\">\n",
       "  <thead>\n",
       "    <tr style=\"text-align: right;\">\n",
       "      <th></th>\n",
       "      <th>PVP</th>\n",
       "      <th>AGR</th>\n",
       "      <th>CMI</th>\n",
       "      <th>TRA</th>\n",
       "      <th>LOG</th>\n",
       "      <th>EDU</th>\n",
       "      <th>ACS</th>\n",
       "      <th>ANC</th>\n",
       "      <th>DEF</th>\n",
       "      <th>DET</th>\n",
       "      <th>DIV</th>\n",
       "    </tr>\n",
       "  </thead>\n",
       "  <tbody>\n",
       "    <tr>\n",
       "      <th>PVP</th>\n",
       "      <td>1.000000</td>\n",
       "      <td>-0.084561</td>\n",
       "      <td>-0.000392</td>\n",
       "      <td>0.232740</td>\n",
       "      <td>0.035616</td>\n",
       "      <td>-0.150040</td>\n",
       "      <td>-0.131403</td>\n",
       "      <td>-0.686901</td>\n",
       "      <td>0.101050</td>\n",
       "      <td>0.033556</td>\n",
       "      <td>0.149324</td>\n",
       "    </tr>\n",
       "    <tr>\n",
       "      <th>AGR</th>\n",
       "      <td>-0.084561</td>\n",
       "      <td>1.000000</td>\n",
       "      <td>0.600137</td>\n",
       "      <td>-0.275838</td>\n",
       "      <td>0.435732</td>\n",
       "      <td>0.731321</td>\n",
       "      <td>0.805683</td>\n",
       "      <td>0.044283</td>\n",
       "      <td>-0.448366</td>\n",
       "      <td>-0.694917</td>\n",
       "      <td>-0.277202</td>\n",
       "    </tr>\n",
       "    <tr>\n",
       "      <th>CMI</th>\n",
       "      <td>-0.000392</td>\n",
       "      <td>0.600137</td>\n",
       "      <td>1.000000</td>\n",
       "      <td>0.092974</td>\n",
       "      <td>0.891033</td>\n",
       "      <td>0.467051</td>\n",
       "      <td>0.621191</td>\n",
       "      <td>0.022507</td>\n",
       "      <td>-0.536348</td>\n",
       "      <td>-0.804208</td>\n",
       "      <td>-0.348038</td>\n",
       "    </tr>\n",
       "    <tr>\n",
       "      <th>TRA</th>\n",
       "      <td>0.232740</td>\n",
       "      <td>-0.275838</td>\n",
       "      <td>0.092974</td>\n",
       "      <td>1.000000</td>\n",
       "      <td>0.166104</td>\n",
       "      <td>-0.213154</td>\n",
       "      <td>-0.203072</td>\n",
       "      <td>-0.313223</td>\n",
       "      <td>0.157975</td>\n",
       "      <td>-0.148340</td>\n",
       "      <td>0.114369</td>\n",
       "    </tr>\n",
       "    <tr>\n",
       "      <th>LOG</th>\n",
       "      <td>0.035616</td>\n",
       "      <td>0.435732</td>\n",
       "      <td>0.891033</td>\n",
       "      <td>0.166104</td>\n",
       "      <td>1.000000</td>\n",
       "      <td>0.232361</td>\n",
       "      <td>0.487768</td>\n",
       "      <td>0.044712</td>\n",
       "      <td>-0.378561</td>\n",
       "      <td>-0.758038</td>\n",
       "      <td>-0.437935</td>\n",
       "    </tr>\n",
       "    <tr>\n",
       "      <th>EDU</th>\n",
       "      <td>-0.150040</td>\n",
       "      <td>0.731321</td>\n",
       "      <td>0.467051</td>\n",
       "      <td>-0.213154</td>\n",
       "      <td>0.232361</td>\n",
       "      <td>1.000000</td>\n",
       "      <td>0.874978</td>\n",
       "      <td>0.156967</td>\n",
       "      <td>-0.524058</td>\n",
       "      <td>-0.670250</td>\n",
       "      <td>-0.248646</td>\n",
       "    </tr>\n",
       "    <tr>\n",
       "      <th>ACS</th>\n",
       "      <td>-0.131403</td>\n",
       "      <td>0.805683</td>\n",
       "      <td>0.621191</td>\n",
       "      <td>-0.203072</td>\n",
       "      <td>0.487768</td>\n",
       "      <td>0.874978</td>\n",
       "      <td>1.000000</td>\n",
       "      <td>0.288194</td>\n",
       "      <td>-0.567150</td>\n",
       "      <td>-0.808198</td>\n",
       "      <td>-0.529595</td>\n",
       "    </tr>\n",
       "    <tr>\n",
       "      <th>ANC</th>\n",
       "      <td>-0.686901</td>\n",
       "      <td>0.044283</td>\n",
       "      <td>0.022507</td>\n",
       "      <td>-0.313223</td>\n",
       "      <td>0.044712</td>\n",
       "      <td>0.156967</td>\n",
       "      <td>0.288194</td>\n",
       "      <td>1.000000</td>\n",
       "      <td>-0.416853</td>\n",
       "      <td>-0.049366</td>\n",
       "      <td>-0.377468</td>\n",
       "    </tr>\n",
       "    <tr>\n",
       "      <th>DEF</th>\n",
       "      <td>0.101050</td>\n",
       "      <td>-0.448366</td>\n",
       "      <td>-0.536348</td>\n",
       "      <td>0.157975</td>\n",
       "      <td>-0.378561</td>\n",
       "      <td>-0.524058</td>\n",
       "      <td>-0.567150</td>\n",
       "      <td>-0.416853</td>\n",
       "      <td>1.000000</td>\n",
       "      <td>0.261636</td>\n",
       "      <td>0.020413</td>\n",
       "    </tr>\n",
       "    <tr>\n",
       "      <th>DET</th>\n",
       "      <td>0.033556</td>\n",
       "      <td>-0.694917</td>\n",
       "      <td>-0.804208</td>\n",
       "      <td>-0.148340</td>\n",
       "      <td>-0.758038</td>\n",
       "      <td>-0.670250</td>\n",
       "      <td>-0.808198</td>\n",
       "      <td>-0.049366</td>\n",
       "      <td>0.261636</td>\n",
       "      <td>1.000000</td>\n",
       "      <td>0.553932</td>\n",
       "    </tr>\n",
       "    <tr>\n",
       "      <th>DIV</th>\n",
       "      <td>0.149324</td>\n",
       "      <td>-0.277202</td>\n",
       "      <td>-0.348038</td>\n",
       "      <td>0.114369</td>\n",
       "      <td>-0.437935</td>\n",
       "      <td>-0.248646</td>\n",
       "      <td>-0.529595</td>\n",
       "      <td>-0.377468</td>\n",
       "      <td>0.020413</td>\n",
       "      <td>0.553932</td>\n",
       "      <td>1.000000</td>\n",
       "    </tr>\n",
       "  </tbody>\n",
       "</table>\n",
       "</div>"
      ],
      "text/plain": [
       "           PVP       AGR       CMI       TRA       LOG       EDU       ACS  \\\n",
       "PVP   1.000000 -0.084561 -0.000392  0.232740  0.035616 -0.150040 -0.131403   \n",
       "AGR  -0.084561  1.000000  0.600137 -0.275838  0.435732  0.731321  0.805683   \n",
       " CMI -0.000392  0.600137  1.000000  0.092974  0.891033  0.467051  0.621191   \n",
       "TRA   0.232740 -0.275838  0.092974  1.000000  0.166104 -0.213154 -0.203072   \n",
       "LOG   0.035616  0.435732  0.891033  0.166104  1.000000  0.232361  0.487768   \n",
       " EDU -0.150040  0.731321  0.467051 -0.213154  0.232361  1.000000  0.874978   \n",
       "ACS  -0.131403  0.805683  0.621191 -0.203072  0.487768  0.874978  1.000000   \n",
       " ANC -0.686901  0.044283  0.022507 -0.313223  0.044712  0.156967  0.288194   \n",
       "DEF   0.101050 -0.448366 -0.536348  0.157975 -0.378561 -0.524058 -0.567150   \n",
       "DET   0.033556 -0.694917 -0.804208 -0.148340 -0.758038 -0.670250 -0.808198   \n",
       " DIV  0.149324 -0.277202 -0.348038  0.114369 -0.437935 -0.248646 -0.529595   \n",
       "\n",
       "           ANC       DEF       DET       DIV  \n",
       "PVP  -0.686901  0.101050  0.033556  0.149324  \n",
       "AGR   0.044283 -0.448366 -0.694917 -0.277202  \n",
       " CMI  0.022507 -0.536348 -0.804208 -0.348038  \n",
       "TRA  -0.313223  0.157975 -0.148340  0.114369  \n",
       "LOG   0.044712 -0.378561 -0.758038 -0.437935  \n",
       " EDU  0.156967 -0.524058 -0.670250 -0.248646  \n",
       "ACS   0.288194 -0.567150 -0.808198 -0.529595  \n",
       " ANC  1.000000 -0.416853 -0.049366 -0.377468  \n",
       "DEF  -0.416853  1.000000  0.261636  0.020413  \n",
       "DET  -0.049366  0.261636  1.000000  0.553932  \n",
       " DIV -0.377468  0.020413  0.553932  1.000000  "
      ]
     },
     "execution_count": 71,
     "metadata": {},
     "output_type": "execute_result"
    }
   ],
   "source": [
    "# calculer la matrice de correlation\n",
    "\n",
    "correlation = data.corr()\n",
    "correlation"
   ]
  },
  {
   "cell_type": "code",
   "execution_count": 74,
   "metadata": {},
   "outputs": [
    {
     "data": {
      "text/plain": [
       "<Axes: >"
      ]
     },
     "execution_count": 74,
     "metadata": {},
     "output_type": "execute_result"
    },
    {
     "data": {
      "image/png": "[encoded data removed]",
      "text/plain": [
       "<Figure size 640x480 with 2 Axes>"
      ]
     },
     "metadata": {},
     "output_type": "display_data"
    }
   ],
   "source": [
    "# on peut faire le heatmap \n",
    "\n",
    "sns.heatmap(data = correlation, xticklabels=correlation.columns, yticklabels=correlation.columns)"
   ]
  },
  {
   "cell_type": "markdown",
   "metadata": {},
   "source": [
    "On considère que deux variables sont indépendants s'ils sont orthogonauux, ie, si leur correlation est proche de 0. Par exemple, LOG et CMI sont positivement correlés, ACS et EDU également. DET et CMI sont négativement correlés, PVP et CMI sont indépendant.\n",
    "|correlation| < 1\n"
   ]
  },
  {
   "cell_type": "markdown",
   "metadata": {},
   "source": [
    "### Centrage et reduction \n",
    "\n",
    "On peut pour cela utiliser la classe `StandardScaler` de scikit learn.\n",
    "\n",
    "- Scikit-learn manipule des numpy.ndarray et non des `pandas.DataFrame`. On peut très bien appliquer les fonctions de Scikit-learn à un DataFrame mais la sortie sera de type `numpy.ndarray`. Si on veut retrouver un DataFrame, on doit effectuer une transformation grâce à `pd.DataFrame`.\n",
    "- La fonction précédente centre et réduit au sens de numpy (donc non corrigé). \n",
    "- Après la transformation précédente, on a perdu le nom des variables et des individus.\n"
   ]
  },
  {
   "cell_type": "code",
   "execution_count": 81,
   "metadata": {},
   "outputs": [
    {
     "name": "stdout",
     "output_type": "stream",
     "text": [
      "le type est : <class 'numpy.ndarray'>\n",
      "------------------------------\n"
     ]
    },
    {
     "data": {
      "text/html": [
       "<div>\n",
       "<style scoped>\n",
       "    .dataframe tbody tr th:only-of-type {\n",
       "        vertical-align: middle;\n",
       "    }\n",
       "\n",
       "    .dataframe tbody tr th {\n",
       "        vertical-align: top;\n",
       "    }\n",
       "\n",
       "    .dataframe thead th {\n",
       "        text-align: right;\n",
       "    }\n",
       "</style>\n",
       "<table border=\"1\" class=\"dataframe\">\n",
       "  <thead>\n",
       "    <tr style=\"text-align: right;\">\n",
       "      <th></th>\n",
       "      <th>0</th>\n",
       "      <th>1</th>\n",
       "      <th>2</th>\n",
       "      <th>3</th>\n",
       "      <th>4</th>\n",
       "      <th>5</th>\n",
       "      <th>6</th>\n",
       "      <th>7</th>\n",
       "      <th>8</th>\n",
       "      <th>9</th>\n",
       "      <th>10</th>\n",
       "    </tr>\n",
       "  </thead>\n",
       "  <tbody>\n",
       "    <tr>\n",
       "      <th>0</th>\n",
       "      <td>2.641319</td>\n",
       "      <td>-0.908867</td>\n",
       "      <td>-0.855786</td>\n",
       "      <td>-0.656796</td>\n",
       "      <td>-0.826977</td>\n",
       "      <td>-1.501298</td>\n",
       "      <td>-0.826300</td>\n",
       "      <td>-1.02892</td>\n",
       "      <td>-0.527850</td>\n",
       "      <td>1.833595</td>\n",
       "      <td>0.893630</td>\n",
       "    </tr>\n",
       "    <tr>\n",
       "      <th>1</th>\n",
       "      <td>0.861424</td>\n",
       "      <td>-0.726587</td>\n",
       "      <td>-0.855786</td>\n",
       "      <td>2.828105</td>\n",
       "      <td>-0.492201</td>\n",
       "      <td>-1.194976</td>\n",
       "      <td>-1.266341</td>\n",
       "      <td>-1.02892</td>\n",
       "      <td>-0.062704</td>\n",
       "      <td>0.997099</td>\n",
       "      <td>1.283578</td>\n",
       "    </tr>\n",
       "  </tbody>\n",
       "</table>\n",
       "</div>"
      ],
      "text/plain": [
       "         0         1         2         3         4         5         6   \\\n",
       "0  2.641319 -0.908867 -0.855786 -0.656796 -0.826977 -1.501298 -0.826300   \n",
       "1  0.861424 -0.726587 -0.855786  2.828105 -0.492201 -1.194976 -1.266341   \n",
       "\n",
       "        7         8         9         10  \n",
       "0 -1.02892 -0.527850  1.833595  0.893630  \n",
       "1 -1.02892 -0.062704  0.997099  1.283578  "
      ]
     },
     "execution_count": 81,
     "metadata": {},
     "output_type": "execute_result"
    }
   ],
   "source": [
    "# centrons et reduisons nos données\n",
    "\n",
    "scaler = StandardScaler()\n",
    "\n",
    "data_cr = scaler.fit_transform(data)\n",
    "\n",
    "print(f'le type est : {type (data_cr)}')\n",
    "\n",
    "print(\"---\"*10)\n",
    "\n",
    "pd.DataFrame(data_cr).head(2)"
   ]
  },
  {
   "cell_type": "code",
   "execution_count": 78,
   "metadata": {},
   "outputs": [
    {
     "name": "stderr",
     "output_type": "stream",
     "text": [
      "C:\\Users\\cheri\\AppData\\Local\\Packages\\PythonSoftwareFoundation.Python.3.10_qbz5n2kfra8p0\\LocalCache\\local-packages\\Python310\\site-packages\\numpy\\core\\fromnumeric.py:3643: FutureWarning: The behavior of DataFrame.std with axis=None is deprecated, in a future version this will reduce over both axes and return a scalar. To retain the old behavior, pass axis=0 (or do not pass axis)\n",
      "  return std(axis=axis, dtype=dtype, out=out, ddof=ddof, **kwargs)\n"
     ]
    },
    {
     "data": {
      "text/html": [
       "<div>\n",
       "<style scoped>\n",
       "    .dataframe tbody tr th:only-of-type {\n",
       "        vertical-align: middle;\n",
       "    }\n",
       "\n",
       "    .dataframe tbody tr th {\n",
       "        vertical-align: top;\n",
       "    }\n",
       "\n",
       "    .dataframe thead th {\n",
       "        text-align: right;\n",
       "    }\n",
       "</style>\n",
       "<table border=\"1\" class=\"dataframe\">\n",
       "  <thead>\n",
       "    <tr style=\"text-align: right;\">\n",
       "      <th></th>\n",
       "      <th>PVP</th>\n",
       "      <th>AGR</th>\n",
       "      <th>CMI</th>\n",
       "      <th>TRA</th>\n",
       "      <th>LOG</th>\n",
       "      <th>EDU</th>\n",
       "      <th>ACS</th>\n",
       "      <th>ANC</th>\n",
       "      <th>DEF</th>\n",
       "      <th>DET</th>\n",
       "      <th>DIV</th>\n",
       "    </tr>\n",
       "    <tr>\n",
       "      <th>AN</th>\n",
       "      <th></th>\n",
       "      <th></th>\n",
       "      <th></th>\n",
       "      <th></th>\n",
       "      <th></th>\n",
       "      <th></th>\n",
       "      <th></th>\n",
       "      <th></th>\n",
       "      <th></th>\n",
       "      <th></th>\n",
       "      <th></th>\n",
       "    </tr>\n",
       "  </thead>\n",
       "  <tbody>\n",
       "    <tr>\n",
       "      <th>1872</th>\n",
       "      <td>2.641319</td>\n",
       "      <td>-0.908867</td>\n",
       "      <td>-0.855786</td>\n",
       "      <td>-0.656796</td>\n",
       "      <td>-0.826977</td>\n",
       "      <td>-1.501298</td>\n",
       "      <td>-0.826300</td>\n",
       "      <td>-1.02892</td>\n",
       "      <td>-0.527850</td>\n",
       "      <td>1.833595</td>\n",
       "      <td>0.893630</td>\n",
       "    </tr>\n",
       "    <tr>\n",
       "      <th>1880</th>\n",
       "      <td>0.861424</td>\n",
       "      <td>-0.726587</td>\n",
       "      <td>-0.855786</td>\n",
       "      <td>2.828105</td>\n",
       "      <td>-0.492201</td>\n",
       "      <td>-1.194976</td>\n",
       "      <td>-1.266341</td>\n",
       "      <td>-1.02892</td>\n",
       "      <td>-0.062704</td>\n",
       "      <td>0.997099</td>\n",
       "      <td>1.283578</td>\n",
       "    </tr>\n",
       "  </tbody>\n",
       "</table>\n",
       "</div>"
      ],
      "text/plain": [
       "           PVP       AGR       CMI       TRA       LOG       EDU       ACS  \\\n",
       " AN                                                                          \n",
       "1872  2.641319 -0.908867 -0.855786 -0.656796 -0.826977 -1.501298 -0.826300   \n",
       "1880  0.861424 -0.726587 -0.855786  2.828105 -0.492201 -1.194976 -1.266341   \n",
       "\n",
       "          ANC       DEF       DET       DIV  \n",
       " AN                                          \n",
       "1872 -1.02892 -0.527850  1.833595  0.893630  \n",
       "1880 -1.02892 -0.062704  0.997099  1.283578  "
      ]
     },
     "execution_count": 78,
     "metadata": {},
     "output_type": "execute_result"
    }
   ],
   "source": [
    "# on peut centrer et réduire à la main : \n",
    "\n",
    "data_c = data - data.mean()\n",
    "\n",
    "data_cr_2 = data_c /np.std(data_c)\n",
    "\n",
    "data_cr_2.head(2)"
   ]
  },
  {
   "cell_type": "code",
   "execution_count": 95,
   "metadata": {},
   "outputs": [
    {
     "data": {
      "text/plain": [
       "3.15042114269945"
      ]
     },
     "execution_count": 95,
     "metadata": {},
     "output_type": "execute_result"
    }
   ],
   "source": [
    "# caldcul de la distance euclidienne entre deux individus à la main\n",
    "\n",
    "distance_23_28 = (sum(((data_cr_2.loc[1923]) - (data_cr_2.loc[1938]))**2))**0.5\n",
    "distance_23_28\n",
    "\n"
   ]
  },
  {
   "cell_type": "code",
   "execution_count": 93,
   "metadata": {},
   "outputs": [
    {
     "data": {
      "text/plain": [
       "3.1504211426994506"
      ]
     },
     "execution_count": 93,
     "metadata": {},
     "output_type": "execute_result"
    }
   ],
   "source": [
    "# avec la fonction dist de la librairie math \n",
    "\n",
    "import math \n",
    "\n",
    "distance = math.dist(data_cr_2.loc[1923], data_cr_2.loc[1938] )\n",
    "\n",
    "distance"
   ]
  },
  {
   "cell_type": "code",
   "execution_count": 106,
   "metadata": {},
   "outputs": [],
   "source": [
    "# Coder une fonction pour afficher les distances entre individus (sous forme de tableau n x n )\n",
    "\n",
    "def distance(df):\n",
    "    distance = np.zeros((n,n))\n",
    "    for j in range(n):\n",
    "        for i in range(n):\n",
    "            distance[i,j] = (sum(((df.iloc[i]) - (df.iloc[j]))**2))**0.5\n",
    "\n",
    "    distance = pd.DataFrame(distance, index= df.index, columns = df.index)\n",
    "    return distance \n"
   ]
  },
  {
   "cell_type": "code",
   "execution_count": 108,
   "metadata": {},
   "outputs": [
    {
     "data": {
      "text/html": [
       "<div>\n",
       "<style scoped>\n",
       "    .dataframe tbody tr th:only-of-type {\n",
       "        vertical-align: middle;\n",
       "    }\n",
       "\n",
       "    .dataframe tbody tr th {\n",
       "        vertical-align: top;\n",
       "    }\n",
       "\n",
       "    .dataframe thead th {\n",
       "        text-align: right;\n",
       "    }\n",
       "</style>\n",
       "<table border=\"1\" class=\"dataframe\">\n",
       "  <thead>\n",
       "    <tr style=\"text-align: right;\">\n",
       "      <th>AN</th>\n",
       "      <th>1872</th>\n",
       "      <th>1880</th>\n",
       "      <th>1890</th>\n",
       "      <th>1900</th>\n",
       "      <th>1903</th>\n",
       "      <th>1906</th>\n",
       "      <th>1909</th>\n",
       "      <th>1912</th>\n",
       "      <th>1920</th>\n",
       "      <th>1923</th>\n",
       "      <th>...</th>\n",
       "      <th>1938</th>\n",
       "      <th>1947</th>\n",
       "      <th>1950</th>\n",
       "      <th>1953</th>\n",
       "      <th>1956</th>\n",
       "      <th>1959</th>\n",
       "      <th>1962</th>\n",
       "      <th>1965</th>\n",
       "      <th>1968</th>\n",
       "      <th>1971</th>\n",
       "    </tr>\n",
       "    <tr>\n",
       "      <th>AN</th>\n",
       "      <th></th>\n",
       "      <th></th>\n",
       "      <th></th>\n",
       "      <th></th>\n",
       "      <th></th>\n",
       "      <th></th>\n",
       "      <th></th>\n",
       "      <th></th>\n",
       "      <th></th>\n",
       "      <th></th>\n",
       "      <th></th>\n",
       "      <th></th>\n",
       "      <th></th>\n",
       "      <th></th>\n",
       "      <th></th>\n",
       "      <th></th>\n",
       "      <th></th>\n",
       "      <th></th>\n",
       "      <th></th>\n",
       "      <th></th>\n",
       "      <th></th>\n",
       "    </tr>\n",
       "  </thead>\n",
       "  <tbody>\n",
       "    <tr>\n",
       "      <th>1872</th>\n",
       "      <td>0.000000</td>\n",
       "      <td>4.100424</td>\n",
       "      <td>2.577799</td>\n",
       "      <td>2.944823</td>\n",
       "      <td>4.503247</td>\n",
       "      <td>3.336739</td>\n",
       "      <td>3.403328</td>\n",
       "      <td>4.148377</td>\n",
       "      <td>4.715762</td>\n",
       "      <td>5.624181</td>\n",
       "      <td>...</td>\n",
       "      <td>5.514868</td>\n",
       "      <td>5.485132</td>\n",
       "      <td>7.413175</td>\n",
       "      <td>5.833714</td>\n",
       "      <td>6.920588</td>\n",
       "      <td>6.227104</td>\n",
       "      <td>6.541947</td>\n",
       "      <td>6.878324</td>\n",
       "      <td>7.531122</td>\n",
       "      <td>7.066119</td>\n",
       "    </tr>\n",
       "    <tr>\n",
       "      <th>1880</th>\n",
       "      <td>4.100424</td>\n",
       "      <td>0.000000</td>\n",
       "      <td>3.665174</td>\n",
       "      <td>3.739886</td>\n",
       "      <td>3.434265</td>\n",
       "      <td>3.444412</td>\n",
       "      <td>3.133561</td>\n",
       "      <td>3.653821</td>\n",
       "      <td>3.385820</td>\n",
       "      <td>5.926555</td>\n",
       "      <td>...</td>\n",
       "      <td>5.754975</td>\n",
       "      <td>4.907049</td>\n",
       "      <td>6.172903</td>\n",
       "      <td>5.711575</td>\n",
       "      <td>6.742206</td>\n",
       "      <td>6.732303</td>\n",
       "      <td>6.844369</td>\n",
       "      <td>6.523814</td>\n",
       "      <td>7.682673</td>\n",
       "      <td>7.060849</td>\n",
       "    </tr>\n",
       "    <tr>\n",
       "      <th>1890</th>\n",
       "      <td>2.577799</td>\n",
       "      <td>3.665174</td>\n",
       "      <td>0.000000</td>\n",
       "      <td>1.233589</td>\n",
       "      <td>2.441587</td>\n",
       "      <td>1.290076</td>\n",
       "      <td>1.831637</td>\n",
       "      <td>2.314383</td>\n",
       "      <td>3.159973</td>\n",
       "      <td>3.923851</td>\n",
       "      <td>...</td>\n",
       "      <td>3.583342</td>\n",
       "      <td>4.773121</td>\n",
       "      <td>6.609814</td>\n",
       "      <td>4.624678</td>\n",
       "      <td>5.781350</td>\n",
       "      <td>5.288303</td>\n",
       "      <td>5.583272</td>\n",
       "      <td>6.001045</td>\n",
       "      <td>6.551989</td>\n",
       "      <td>6.127663</td>\n",
       "    </tr>\n",
       "    <tr>\n",
       "      <th>1900</th>\n",
       "      <td>2.944823</td>\n",
       "      <td>3.739886</td>\n",
       "      <td>1.233589</td>\n",
       "      <td>0.000000</td>\n",
       "      <td>2.250989</td>\n",
       "      <td>0.875184</td>\n",
       "      <td>1.405077</td>\n",
       "      <td>2.017251</td>\n",
       "      <td>3.306264</td>\n",
       "      <td>4.432579</td>\n",
       "      <td>...</td>\n",
       "      <td>3.699979</td>\n",
       "      <td>4.466176</td>\n",
       "      <td>6.430428</td>\n",
       "      <td>4.362373</td>\n",
       "      <td>5.471515</td>\n",
       "      <td>5.009220</td>\n",
       "      <td>5.322279</td>\n",
       "      <td>5.666860</td>\n",
       "      <td>6.169959</td>\n",
       "      <td>6.089665</td>\n",
       "    </tr>\n",
       "    <tr>\n",
       "      <th>1903</th>\n",
       "      <td>4.503247</td>\n",
       "      <td>3.434265</td>\n",
       "      <td>2.441587</td>\n",
       "      <td>2.250989</td>\n",
       "      <td>0.000000</td>\n",
       "      <td>1.867439</td>\n",
       "      <td>1.745359</td>\n",
       "      <td>2.392562</td>\n",
       "      <td>3.411250</td>\n",
       "      <td>4.154772</td>\n",
       "      <td>...</td>\n",
       "      <td>3.939878</td>\n",
       "      <td>5.360917</td>\n",
       "      <td>6.438006</td>\n",
       "      <td>5.090606</td>\n",
       "      <td>5.873410</td>\n",
       "      <td>5.845232</td>\n",
       "      <td>5.974043</td>\n",
       "      <td>5.839202</td>\n",
       "      <td>6.397769</td>\n",
       "      <td>6.483414</td>\n",
       "    </tr>\n",
       "  </tbody>\n",
       "</table>\n",
       "<p>5 rows × 24 columns</p>\n",
       "</div>"
      ],
      "text/plain": [
       " AN       1872      1880      1890      1900      1903      1906      1909  \\\n",
       " AN                                                                          \n",
       "1872  0.000000  4.100424  2.577799  2.944823  4.503247  3.336739  3.403328   \n",
       "1880  4.100424  0.000000  3.665174  3.739886  3.434265  3.444412  3.133561   \n",
       "1890  2.577799  3.665174  0.000000  1.233589  2.441587  1.290076  1.831637   \n",
       "1900  2.944823  3.739886  1.233589  0.000000  2.250989  0.875184  1.405077   \n",
       "1903  4.503247  3.434265  2.441587  2.250989  0.000000  1.867439  1.745359   \n",
       "\n",
       " AN       1912      1920      1923  ...      1938      1947      1950  \\\n",
       " AN                                 ...                                 \n",
       "1872  4.148377  4.715762  5.624181  ...  5.514868  5.485132  7.413175   \n",
       "1880  3.653821  3.385820  5.926555  ...  5.754975  4.907049  6.172903   \n",
       "1890  2.314383  3.159973  3.923851  ...  3.583342  4.773121  6.609814   \n",
       "1900  2.017251  3.306264  4.432579  ...  3.699979  4.466176  6.430428   \n",
       "1903  2.392562  3.411250  4.154772  ...  3.939878  5.360917  6.438006   \n",
       "\n",
       " AN       1953      1956      1959      1962      1965      1968      1971  \n",
       " AN                                                                         \n",
       "1872  5.833714  6.920588  6.227104  6.541947  6.878324  7.531122  7.066119  \n",
       "1880  5.711575  6.742206  6.732303  6.844369  6.523814  7.682673  7.060849  \n",
       "1890  4.624678  5.781350  5.288303  5.583272  6.001045  6.551989  6.127663  \n",
       "1900  4.362373  5.471515  5.009220  5.322279  5.666860  6.169959  6.089665  \n",
       "1903  5.090606  5.873410  5.845232  5.974043  5.839202  6.397769  6.483414  \n",
       "\n",
       "[5 rows x 24 columns]"
      ]
     },
     "execution_count": 108,
     "metadata": {},
     "output_type": "execute_result"
    }
   ],
   "source": [
    "# calculer la distance:\n",
    "\n",
    "distance(data_cr_2).head()"
   ]
  },
  {
   "cell_type": "code",
   "execution_count": 110,
   "metadata": {},
   "outputs": [
    {
     "data": {
      "text/plain": [
       "PVP     12.212500\n",
       "AGR      1.995833\n",
       " CMI     3.941667\n",
       "TRA      8.320833\n",
       "LOG      3.958333\n",
       " EDU     9.941667\n",
       "ACS      4.816667\n",
       " ANC     4.275000\n",
       "DEF     30.258333\n",
       "DET     19.141667\n",
       " DIV     1.183333\n",
       "dtype: float64"
      ]
     },
     "execution_count": 110,
     "metadata": {},
     "output_type": "execute_result"
    }
   ],
   "source": [
    "# les coordonnées du centre de gravité au nuage de points : \n",
    "\n",
    "coordonnée = data.mean()\n",
    "coordonnée"
   ]
  },
  {
   "cell_type": "code",
   "execution_count": 124,
   "metadata": {},
   "outputs": [
    {
     "data": {
      "text/html": [
       "<div>\n",
       "<style scoped>\n",
       "    .dataframe tbody tr th:only-of-type {\n",
       "        vertical-align: middle;\n",
       "    }\n",
       "\n",
       "    .dataframe tbody tr th {\n",
       "        vertical-align: top;\n",
       "    }\n",
       "\n",
       "    .dataframe thead th {\n",
       "        text-align: right;\n",
       "    }\n",
       "</style>\n",
       "<table border=\"1\" class=\"dataframe\">\n",
       "  <thead>\n",
       "    <tr style=\"text-align: right;\">\n",
       "      <th></th>\n",
       "      <th>Distance au centre de gravité</th>\n",
       "    </tr>\n",
       "    <tr>\n",
       "      <th>AN</th>\n",
       "      <th></th>\n",
       "    </tr>\n",
       "  </thead>\n",
       "  <tbody>\n",
       "    <tr>\n",
       "      <th>1872</th>\n",
       "      <td>25.853458</td>\n",
       "    </tr>\n",
       "    <tr>\n",
       "      <th>1880</th>\n",
       "      <td>17.272318</td>\n",
       "    </tr>\n",
       "    <tr>\n",
       "      <th>1890</th>\n",
       "      <td>17.794066</td>\n",
       "    </tr>\n",
       "    <tr>\n",
       "      <th>1900</th>\n",
       "      <td>12.891811</td>\n",
       "    </tr>\n",
       "    <tr>\n",
       "      <th>1903</th>\n",
       "      <td>14.103267</td>\n",
       "    </tr>\n",
       "    <tr>\n",
       "      <th>1906</th>\n",
       "      <td>12.641814</td>\n",
       "    </tr>\n",
       "    <tr>\n",
       "      <th>1909</th>\n",
       "      <td>10.536111</td>\n",
       "    </tr>\n",
       "    <tr>\n",
       "      <th>1912</th>\n",
       "      <td>12.771406</td>\n",
       "    </tr>\n",
       "    <tr>\n",
       "      <th>1920</th>\n",
       "      <td>15.850830</td>\n",
       "    </tr>\n",
       "    <tr>\n",
       "      <th>1923</th>\n",
       "      <td>18.920548</td>\n",
       "    </tr>\n",
       "    <tr>\n",
       "      <th>1926</th>\n",
       "      <td>26.514250</td>\n",
       "    </tr>\n",
       "    <tr>\n",
       "      <th>1929</th>\n",
       "      <td>11.830242</td>\n",
       "    </tr>\n",
       "    <tr>\n",
       "      <th>1932</th>\n",
       "      <td>10.672182</td>\n",
       "    </tr>\n",
       "    <tr>\n",
       "      <th>1935</th>\n",
       "      <td>9.194453</td>\n",
       "    </tr>\n",
       "    <tr>\n",
       "      <th>1938</th>\n",
       "      <td>11.863339</td>\n",
       "    </tr>\n",
       "    <tr>\n",
       "      <th>1947</th>\n",
       "      <td>17.058711</td>\n",
       "    </tr>\n",
       "    <tr>\n",
       "      <th>1950</th>\n",
       "      <td>25.198521</td>\n",
       "    </tr>\n",
       "    <tr>\n",
       "      <th>1953</th>\n",
       "      <td>17.612414</td>\n",
       "    </tr>\n",
       "    <tr>\n",
       "      <th>1956</th>\n",
       "      <td>16.286077</td>\n",
       "    </tr>\n",
       "    <tr>\n",
       "      <th>1959</th>\n",
       "      <td>15.021140</td>\n",
       "    </tr>\n",
       "    <tr>\n",
       "      <th>1962</th>\n",
       "      <td>16.914308</td>\n",
       "    </tr>\n",
       "    <tr>\n",
       "      <th>1965</th>\n",
       "      <td>22.569994</td>\n",
       "    </tr>\n",
       "    <tr>\n",
       "      <th>1968</th>\n",
       "      <td>23.167336</td>\n",
       "    </tr>\n",
       "    <tr>\n",
       "      <th>1971</th>\n",
       "      <td>22.819191</td>\n",
       "    </tr>\n",
       "  </tbody>\n",
       "</table>\n",
       "</div>"
      ],
      "text/plain": [
       "      Distance au centre de gravité\n",
       " AN                                \n",
       "1872                      25.853458\n",
       "1880                      17.272318\n",
       "1890                      17.794066\n",
       "1900                      12.891811\n",
       "1903                      14.103267\n",
       "1906                      12.641814\n",
       "1909                      10.536111\n",
       "1912                      12.771406\n",
       "1920                      15.850830\n",
       "1923                      18.920548\n",
       "1926                      26.514250\n",
       "1929                      11.830242\n",
       "1932                      10.672182\n",
       "1935                       9.194453\n",
       "1938                      11.863339\n",
       "1947                      17.058711\n",
       "1950                      25.198521\n",
       "1953                      17.612414\n",
       "1956                      16.286077\n",
       "1959                      15.021140\n",
       "1962                      16.914308\n",
       "1965                      22.569994\n",
       "1968                      23.167336\n",
       "1971                      22.819191"
      ]
     },
     "execution_count": 124,
     "metadata": {},
     "output_type": "execute_result"
    }
   ],
   "source": [
    "# calculons et stockons les distances par rapport au centre de gravité\n",
    "\n",
    "distance_c = np.sum(((data - coordonnée)**2), axis=1)**0.5\n",
    "\n",
    "pd.DataFrame({'Distance au centre de gravité':distance_c})"
   ]
  },
  {
   "cell_type": "markdown",
   "metadata": {},
   "source": [
    "On peut constater que ces distances correspondent à la contribution des individus à l'inertie totale.  1968, 1950, 1926, 1872 contribuent le plus à \n",
    "l'inertie totale (s'éloignent du centre de gravité)"
   ]
  },
  {
   "cell_type": "code",
   "execution_count": 126,
   "metadata": {},
   "outputs": [
    {
     "data": {
      "text/plain": [
       "310.5724479166667"
      ]
     },
     "execution_count": 126,
     "metadata": {},
     "output_type": "execute_result"
    }
   ],
   "source": [
    "# inertie \n",
    "(distance_c**(1/0.5)).mean()"
   ]
  },
  {
   "cell_type": "markdown",
   "metadata": {},
   "source": [
    "On retrouve donc la valeur de l'inertie à la virgule prête! "
   ]
  },
  {
   "cell_type": "markdown",
   "metadata": {},
   "source": [
    "## 3. Analyse en composante principale \n",
    "\n",
    "Dans cette partie, on va faire l'ACP *à la main* puis l'ACP à l'aide du package PCA. \n",
    "\n",
    "### a. A la main\n",
    "\n",
    "L'algorithme est: \n",
    "- Calculer les valeurs propres et les vecteurs propres de la matrice de covariance\n",
    "- Déterminer les nouvelles coordonnées des individus dans la nouvelle base formée par les vecteurs propres\n"
   ]
  },
  {
   "cell_type": "code",
   "execution_count": 131,
   "metadata": {},
   "outputs": [
    {
     "data": {
      "text/plain": [
       "array([[ 0.00998634, -0.06915874, -0.16295472,  0.3568937 ,  0.0365139 ,\n",
       "        -0.72232777, -0.29900134, -0.0871545 ,  0.18389085,  0.31559977,\n",
       "        -0.29611239],\n",
       "       [-0.08626417,  0.03095442,  0.07453333,  0.08176655, -0.19774776,\n",
       "         0.00395933, -0.29426461, -0.47355107,  0.38417465, -0.6923577 ,\n",
       "        -0.04947585],\n",
       "       [-0.27090232,  0.05210781, -0.40343484,  0.02030407, -0.27342774,\n",
       "         0.42838577, -0.30181714,  0.00802381, -0.23928601,  0.10743036,\n",
       "        -0.58522701],\n",
       "       [-0.01181701, -0.11635525, -0.20551073,  0.05911251,  0.8723747 ,\n",
       "         0.15683867, -0.30293193, -0.13595374, -0.15731191, -0.13553617,\n",
       "         0.0398575 ],\n",
       "       [-0.2275414 , -0.03428071, -0.49772422, -0.1796247 , -0.23067418,\n",
       "        -0.06013632, -0.302758  , -0.11081967, -0.00599556,  0.169328  ,\n",
       "         0.69106949],\n",
       "       [-0.27225222,  0.19035938,  0.57819158,  0.37179843, -0.00190398,\n",
       "         0.27797531, -0.29679485, -0.22045841, -0.01059323,  0.4081241 ,\n",
       "         0.1909502 ],\n",
       "       [-0.20857915,  0.10870465,  0.23593308,  0.04261062, -0.08984687,\n",
       "        -0.32326273, -0.31607827,  0.42547253, -0.57453464, -0.39619619,\n",
       "         0.08144243],\n",
       "       [-0.03882365,  0.30214603,  0.23433056, -0.79666958,  0.12584336,\n",
       "        -0.14863544, -0.2982914 , -0.05561063,  0.14894588,  0.1735803 ,\n",
       "        -0.18786413],\n",
       "       [ 0.23866403, -0.84311768,  0.25318186, -0.17527442, -0.16025834,\n",
       "         0.08423515, -0.30164734, -0.01243428, -0.07965856,  0.07981805,\n",
       "        -0.02700829],\n",
       "       [ 0.83048426,  0.35506881, -0.07288603,  0.1029693 , -0.13457772,\n",
       "         0.10399044, -0.30334999, -0.07360034, -0.18811745,  0.02513426,\n",
       "         0.07696541],\n",
       "       [ 0.03684462,  0.02372893, -0.02954082,  0.11710503,  0.05333949,\n",
       "         0.21148682, -0.29916557,  0.70642178,  0.58517725, -0.04224714,\n",
       "         0.05632389]])"
      ]
     },
     "execution_count": 131,
     "metadata": {},
     "output_type": "execute_result"
    }
   ],
   "source": [
    "# valeurs propres et vecteurs propres\n",
    "\n",
    "valeur_propre, vecteur_propre = np.linalg.eig(mat_cov)\n"
   ]
  },
  {
   "cell_type": "code",
   "execution_count": 133,
   "metadata": {},
   "outputs": [
    {
     "data": {
      "text/plain": [
       "array([[ 2.04437583e+00, -3.86054844e+00, -3.57989808e+00,\n",
       "         5.85384488e+00,  2.01629704e-01, -2.22310854e+00,\n",
       "        -3.82317151e-05, -2.15984027e-02,  1.16181415e-01,\n",
       "         3.50719778e-01, -3.17462848e-01],\n",
       "       [-1.76597583e+01,  1.72792379e+00,  1.63739806e+00,\n",
       "         1.34115206e+00, -1.09196286e+00,  1.21856439e-02,\n",
       "        -3.76260549e-05, -1.17354205e-01,  2.42719822e-01,\n",
       "        -7.69403403e-01, -5.30431852e-02],\n",
       "       [-5.54583615e+01,  2.90873921e+00, -8.86292596e+00,\n",
       "         3.33031605e-01, -1.50986756e+00,  1.31844309e+00,\n",
       "        -3.85917562e-05,  1.98843941e-03, -1.51179830e-01,\n",
       "         1.19385227e-01, -6.27423362e-01],\n",
       "       [-2.41914448e+00, -6.49513128e+00, -4.51479690e+00,\n",
       "         9.69575678e-01,  4.81725180e+00,  4.82702463e-01,\n",
       "        -3.87342988e-05, -3.36917053e-02, -9.93889593e-02,\n",
       "        -1.50618665e-01,  4.27313283e-02],\n",
       "       [-4.65816362e+01, -1.91360294e+00, -1.09343380e+01,\n",
       "        -2.94624177e+00, -1.27378248e+00, -1.85081583e-01,\n",
       "        -3.87120593e-05, -2.74630447e-02, -3.78796577e-03,\n",
       "         1.88170851e-01,  7.40897355e-01],\n",
       "       [-5.57347091e+01,  1.06261577e+01,  1.27020987e+01,\n",
       "         6.09831527e+00, -1.05137555e-02,  8.55524743e-01,\n",
       "        -3.79495824e-05, -5.46334353e-02, -6.69275841e-03,\n",
       "         4.53540230e-01,  2.04718195e-01],\n",
       "       [-4.26997381e+01,  6.06806311e+00,  5.18313558e+00,\n",
       "         6.98908250e-01, -4.96134284e-01, -9.94905866e-01,\n",
       "        -4.04152516e-05,  1.05439507e-01, -3.62988417e-01,\n",
       "        -4.40284985e-01,  8.73146343e-02],\n",
       "       [-7.94786772e+00,  1.68662626e+01,  5.14793021e+00,\n",
       "        -1.30671404e+01,  6.94906868e-01, -4.57455383e-01,\n",
       "        -3.81409383e-05, -1.37812819e-02,  9.41033409e-02,\n",
       "         1.92896349e-01, -2.01409613e-01],\n",
       "       [ 4.88586304e+01, -4.70641435e+01,  5.56206823e+00,\n",
       "        -2.87488759e+00, -8.84946333e-01,  2.59250567e-01,\n",
       "        -3.85700451e-05, -3.08143047e-03, -5.03279222e-02,\n",
       "         8.87002146e-02, -2.89556568e-02],\n",
       "       [ 1.70014405e+02,  1.98204944e+01, -1.60120889e+00,\n",
       "         1.68892393e+00, -7.43137990e-01,  3.20051432e-01,\n",
       "        -3.87877539e-05, -1.82394461e-02, -1.18851760e-01,\n",
       "         2.79312080e-02,  8.25148117e-02],\n",
       "       [ 7.54272742e+00,  1.32458566e+00, -6.48972550e-01,\n",
       "         1.92078110e+00,  2.94540577e-01,  6.50893094e-01,\n",
       "        -3.82527144e-05,  1.75063626e-01,  3.69712367e-01,\n",
       "        -4.69484079e-02,  6.03849816e-02]])"
      ]
     },
     "execution_count": 133,
     "metadata": {},
     "output_type": "execute_result"
    }
   ],
   "source": [
    "#Déterminer les nouvelles coordonnées des individus dans la nouvelle base formée par les vecteurs propres\n",
    "\n",
    "\"\"\"la fonction .dot() de numpy permet de faire le produit \"\"\"\n",
    "\n",
    "nouvelles_coordonnées = np.dot(mat_cov, vecteur_propre)\n",
    "\n",
    "nouvelles_coordonnées\n",
    "\n"
   ]
  },
  {
   "cell_type": "markdown",
   "metadata": {},
   "source": [
    "### 3. Avec PCA \n",
    "\n",
    "- Le paramètre `svd_solver = ‘full’` indique que l’algorithme utilisé pour la décomposition en valeurs singulières sera la méthode \"exacte\". C'est la sélection par défaut pour l’appréhension des bases de taille réduite. D’autres approches sont disponibles pour le traitement des grands ensembles de données. \n",
    "- `n_components = None` indique que le nombre de composantes principales n’est pas spécifié, il est par défaut égal au nombre de variables.\n",
    "- La fonction `.fit` lance l'ACP sur les données.\n",
    "- La fonction `.fit_transform()` renvoie en sortie les coordonnées factorielles, c'est à dire les coordonnées des individus dans la nouvelle base. On les conserve dans `coordX` .\n"
   ]
  },
  {
   "cell_type": "code",
   "execution_count": 135,
   "metadata": {},
   "outputs": [],
   "source": [
    "# on sauve notre numpy array \n",
    "\n",
    "np.save(\"./train_dataset.npy\", data_cr)"
   ]
  },
  {
   "cell_type": "code",
   "execution_count": 136,
   "metadata": {},
   "outputs": [
    {
     "data": {
      "text/plain": [
       "sklearn.decomposition._pca.PCA"
      ]
     },
     "execution_count": 136,
     "metadata": {},
     "output_type": "execute_result"
    }
   ],
   "source": [
    "# instanciation de l'ACP \n",
    "pca_data = PCA(svd_solver=\"full\")\n",
    "type(pca_data)"
   ]
  },
  {
   "cell_type": "code",
   "execution_count": 139,
   "metadata": {},
   "outputs": [
    {
     "data": {
      "text/plain": [
       "(24, 11)"
      ]
     },
     "execution_count": 139,
     "metadata": {},
     "output_type": "execute_result"
    }
   ],
   "source": [
    "# coordonnée\n",
    "\n",
    "coord_x = pca_data.fit_transform(data)\n",
    "coord_x.shape"
   ]
  },
  {
   "cell_type": "markdown",
   "metadata": {},
   "source": [
    "### b. inertie expliquée"
   ]
  },
  {
   "cell_type": "code",
   "execution_count": 140,
   "metadata": {},
   "outputs": [
    {
     "data": {
      "text/plain": [
       "array([2.04717190e+02, 5.58215593e+01, 2.19686678e+01, 1.64022084e+01,\n",
       "       5.52199853e+00, 3.07770050e+00, 1.11128020e+00, 1.07210254e+00,\n",
       "       6.31795526e-01, 2.47817424e-01, 1.27864694e-04])"
      ]
     },
     "execution_count": 140,
     "metadata": {},
     "output_type": "execute_result"
    }
   ],
   "source": [
    "valeur_propre_data = pca_data.explained_variance_* (n-1/n)\n",
    "pca_data.singular_values_**2/n"
   ]
  },
  {
   "cell_type": "code",
   "execution_count": 152,
   "metadata": {},
   "outputs": [
    {
     "name": "stdout",
     "output_type": "stream",
     "text": [
      "le pourcentage d'inertie expliqué par le premier axe est: 65.91608211505553%\n",
      "le pourcentage d'inertie expliqué par les deux premuiers axes: 83.88984626175088%\n"
     ]
    }
   ],
   "source": [
    "#On s'interesse aussi (et surtout) au pourcentage d'inerte (ou de variance) expliqué par chaque axe que l'on peut retrouver à l'aide de la fontion suivante:\n",
    "\n",
    "values = pca_data.explained_variance_ratio_\n",
    "\n",
    "# pourcentage d'inertie expliqué par le premier axe\n",
    "\n",
    "print(f\"le pourcentage d'inertie expliqué par le premier axe est: {(values[0]/sum(values))*100}%\")\n",
    "\n",
    "# # pourcentage d'inertie expliquébpar les deux premiers axes:\n",
    "\n",
    "print(f\"le pourcentage d'inertie expliqué par les deux premuiers axes: {(sum(values[:2])/sum(values))*100}%\")"
   ]
  },
  {
   "cell_type": "code",
   "execution_count": null,
   "metadata": {},
   "outputs": [],
   "source": [
    "\n",
    "    "
   ]
  },
  {
   "cell_type": "code",
   "execution_count": null,
   "metadata": {},
   "outputs": [],
   "source": []
  },
  {
   "cell_type": "code",
   "execution_count": null,
   "metadata": {},
   "outputs": [],
   "source": []
  },
  {
   "cell_type": "code",
   "execution_count": null,
   "metadata": {},
   "outputs": [],
   "source": []
  },
  {
   "cell_type": "code",
   "execution_count": null,
   "metadata": {},
   "outputs": [],
   "source": []
  },
  {
   "cell_type": "code",
   "execution_count": null,
   "metadata": {},
   "outputs": [],
   "source": []
  },
  {
   "cell_type": "code",
   "execution_count": null,
   "metadata": {},
   "outputs": [],
   "source": []
  },
  {
   "cell_type": "code",
   "execution_count": null,
   "metadata": {},
   "outputs": [],
   "source": []
  },
  {
   "cell_type": "code",
   "execution_count": null,
   "metadata": {},
   "outputs": [],
   "source": []
  },
  {
   "cell_type": "code",
   "execution_count": null,
   "metadata": {},
   "outputs": [],
   "source": []
  },
  {
   "cell_type": "code",
   "execution_count": null,
   "metadata": {},
   "outputs": [],
   "source": []
  },
  {
   "cell_type": "code",
   "execution_count": null,
   "metadata": {},
   "outputs": [],
   "source": []
  },
  {
   "cell_type": "code",
   "execution_count": null,
   "metadata": {},
   "outputs": [],
   "source": []
  },
  {
   "cell_type": "code",
   "execution_count": null,
   "metadata": {},
   "outputs": [],
   "source": []
  },
  {
   "cell_type": "code",
   "execution_count": null,
   "metadata": {},
   "outputs": [],
   "source": []
  },
  {
   "cell_type": "code",
   "execution_count": null,
   "metadata": {},
   "outputs": [],
   "source": []
  },
  {
   "cell_type": "code",
   "execution_count": null,
   "metadata": {},
   "outputs": [],
   "source": []
  },
  {
   "cell_type": "code",
   "execution_count": null,
   "metadata": {},
   "outputs": [],
   "source": []
  },
  {
   "cell_type": "code",
   "execution_count": null,
   "metadata": {},
   "outputs": [],
   "source": []
  },
  {
   "cell_type": "code",
   "execution_count": null,
   "metadata": {},
   "outputs": [],
   "source": []
  },
  {
   "cell_type": "code",
   "execution_count": null,
   "metadata": {},
   "outputs": [],
   "source": []
  },
  {
   "cell_type": "code",
   "execution_count": null,
   "metadata": {},
   "outputs": [],
   "source": []
  },
  {
   "cell_type": "code",
   "execution_count": null,
   "metadata": {},
   "outputs": [],
   "source": []
  },
  {
   "cell_type": "code",
   "execution_count": null,
   "metadata": {},
   "outputs": [],
   "source": []
  },
  {
   "cell_type": "code",
   "execution_count": null,
   "metadata": {},
   "outputs": [],
   "source": []
  },
  {
   "cell_type": "code",
   "execution_count": null,
   "metadata": {},
   "outputs": [],
   "source": []
  },
  {
   "cell_type": "code",
   "execution_count": null,
   "metadata": {},
   "outputs": [],
   "source": []
  },
  {
   "cell_type": "code",
   "execution_count": null,
   "metadata": {},
   "outputs": [],
   "source": []
  },
  {
   "cell_type": "code",
   "execution_count": null,
   "metadata": {},
   "outputs": [],
   "source": []
  },
  {
   "cell_type": "code",
   "execution_count": null,
   "metadata": {},
   "outputs": [],
   "source": []
  },
  {
   "cell_type": "code",
   "execution_count": null,
   "metadata": {},
   "outputs": [],
   "source": []
  },
  {
   "cell_type": "code",
   "execution_count": null,
   "metadata": {},
   "outputs": [],
   "source": []
  },
  {
   "cell_type": "code",
   "execution_count": null,
   "metadata": {},
   "outputs": [],
   "source": []
  },
  {
   "cell_type": "code",
   "execution_count": null,
   "metadata": {},
   "outputs": [],
   "source": []
  },
  {
   "cell_type": "code",
   "execution_count": null,
   "metadata": {},
   "outputs": [],
   "source": []
  },
  {
   "cell_type": "code",
   "execution_count": null,
   "metadata": {},
   "outputs": [],
   "source": []
  },
  {
   "cell_type": "code",
   "execution_count": null,
   "metadata": {},
   "outputs": [],
   "source": []
  },
  {
   "cell_type": "code",
   "execution_count": null,
   "metadata": {},
   "outputs": [],
   "source": []
  },
  {
   "cell_type": "code",
   "execution_count": null,
   "metadata": {},
   "outputs": [],
   "source": []
  },
  {
   "cell_type": "code",
   "execution_count": null,
   "metadata": {},
   "outputs": [],
   "source": []
  },
  {
   "cell_type": "code",
   "execution_count": null,
   "metadata": {},
   "outputs": [],
   "source": []
  },
  {
   "cell_type": "code",
   "execution_count": null,
   "metadata": {},
   "outputs": [],
   "source": []
  },
  {
   "cell_type": "code",
   "execution_count": null,
   "metadata": {},
   "outputs": [],
   "source": []
  },
  {
   "cell_type": "code",
   "execution_count": null,
   "metadata": {},
   "outputs": [],
   "source": []
  },
  {
   "cell_type": "code",
   "execution_count": null,
   "metadata": {},
   "outputs": [],
   "source": []
  },
  {
   "cell_type": "code",
   "execution_count": null,
   "metadata": {},
   "outputs": [],
   "source": []
  },
  {
   "cell_type": "code",
   "execution_count": null,
   "metadata": {},
   "outputs": [],
   "source": []
  },
  {
   "cell_type": "code",
   "execution_count": null,
   "metadata": {},
   "outputs": [],
   "source": []
  }
 ],
 "metadata": {
  "kernelspec": {
   "display_name": "Python 3",
   "language": "python",
   "name": "python3"
  },
  "language_info": {
   "codemirror_mode": {
    "name": "ipython",
    "version": 3
   },
   "file_extension": ".py",
   "mimetype": "text/x-python",
   "name": "python",
   "nbconvert_exporter": "python",
   "pygments_lexer": "ipython3",
   "version": "3.10.11"
  }
 },
 "nbformat": 4,
 "nbformat_minor": 2
}
